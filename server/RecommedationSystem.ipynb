{
 "cells": [
  {
   "cell_type": "code",
   "execution_count": 15,
   "id": "d3a19716",
   "metadata": {},
   "outputs": [],
   "source": [
    "import os\n",
    "import numpy as np\n",
    "import pandas as pd\n",
    "from sklearn.metrics.pairwise import cosine_similarity\n",
    "import seaborn as sns\n",
    "import plotly.express as px\n",
    "import matplotlib.pyplot as plt\n",
    "%matplotlib inline\n",
    "from sklearn.cluster import KMeans\n",
    "from sklearn.preprocessing import StandardScaler\n",
    "from sklearn.pipeline import Pipeline\n",
    "from sklearn.manifold import TSNE\n",
    "from sklearn.decomposition import PCA\n",
    "from sklearn.metrics import euclidean_distances\n",
    "from scipy.spatial.distance import cdist\n",
    "import warnings\n",
    "warnings.filterwarnings(\"ignore\")"
   ]
  },
  {
   "cell_type": "code",
   "execution_count": 16,
   "id": "43462830",
   "metadata": {},
   "outputs": [],
   "source": [
    "songs  = pd.read_csv('songs_scaled.csv',index_col=0)\n"
   ]
  },
  {
   "cell_type": "code",
   "execution_count": 17,
   "id": "278b55a8",
   "metadata": {},
   "outputs": [],
   "source": [
    "def retrieve_rows(song_list, songs_df):\n",
    "    rows = []\n",
    "    for x in song_list:   \n",
    "        result = songs_df[songs_df['name'].str.contains(str(x), case=False, na=False)]\n",
    "        if not result.empty:\n",
    "            first_row = result.iloc[0]\n",
    "            rows.append(first_row)\n",
    "    new_df = pd.DataFrame(rows)\n",
    "    return new_df"
   ]
  },
  {
   "cell_type": "code",
   "execution_count": 18,
   "id": "7c1c7046",
   "metadata": {},
   "outputs": [],
   "source": [
    "def get_user_interest_vector(User_History,Ratings) :\n",
    "    weighted_row = np.zeros(1006)\n",
    "    for x in range(len(User_History)) :\n",
    "        row = (User_History.iloc[x,2:])\n",
    "        row = np.array(row)\n",
    "        weighted_row = weighted_row + row * Ratings[x]\n",
    "    User_Profile = np.array(weighted_row / np.sum(weighted_row))\n",
    "    return User_Profile"
   ]
  },
  {
   "cell_type": "code",
   "execution_count": 19,
   "id": "c9d65b14",
   "metadata": {},
   "outputs": [],
   "source": [
    "def get_pool_of_similar_songs(User_Interest,songs_df,pool_size) :\n",
    "    Matrix  =  songs_df.iloc[:,2:]\n",
    "    User_Interest = User_Interest.reshape(1,-1)\n",
    "    Utility  = Matrix * User_Interest\n",
    "    Sum_vector = np.sum(Utility, axis=1)\n",
    "    Resultant = songs.copy(deep=True)\n",
    "    Resultant['sum'] = Sum_vector\n",
    "    Resultant = Resultant.sort_values(by='sum', ascending=False)\n",
    "    return Resultant.iloc[:pool_size,]"
   ]
  },
  {
   "cell_type": "code",
   "execution_count": 20,
   "id": "096e30a8",
   "metadata": {},
   "outputs": [],
   "source": [
    "def recommender(User_ratings):\n",
    "    Songs_l = User_ratings.iloc[:,0]\n",
    "    Ratings = User_ratings.iloc[:,1]\n",
    "    User_History = retrieve_rows(Songs_l,songs)\n",
    "    User_Interest_Vector = get_user_interest_vector(User_History,Ratings)\n",
    "    Songs_Pool = get_pool_of_similar_songs(User_Interest_Vector,songs,500)\n",
    "    Clean_Pool = Songs_Pool.drop_duplicates(subset='name', keep='first')\n",
    "    Clean_Pool.to_csv('Recommendations.csv')\n",
    "    top_Header = Clean_Pool['name']\n",
    "    Side_Header = User_History['name']\n",
    "    Sim = calculate_cosine_similarity(User_History.iloc[:,2:], Clean_Pool.iloc[:,2:-1])\n",
    "    cosine_similarity_df = pd.DataFrame(Sim, index=Side_Header, columns=top_Header)\n",
    "    cosine_similarity_df.to_csv('Cosine_Similarity.csv')\n",
    "    my_dict = {}  # Initialize an empty dictionary\n",
    "    N = 2\n",
    "    for col in range(cosine_similarity_df.shape[1]) :\n",
    "        column_name = cosine_similarity_df.columns[col]\n",
    "        Item_to_Item_cosine = cosine_similarity_df.iloc[:, col]  \n",
    "        Item_to_Item_cosine.head()\n",
    "        Item_to_Item_cosine = Item_to_Item_cosine.sort_values(ascending=False)\n",
    "        Predicted_Rating = 0\n",
    "        for x in range(N) :\n",
    "            result_row = cosine_similarity_df[cosine_similarity_df.iloc[:, col] == Item_to_Item_cosine[x]]\n",
    "            index = result_row.index[0]\n",
    "            Predicted_Rating = Predicted_Rating + get_rating(str(index), User_ratings) * Item_to_Item_cosine[x]\n",
    "            if x == N-1 : \n",
    "                my_dict[str(column_name)] = Predicted_Rating/N\n",
    "\n",
    "#     # Printing each key-value pair in a loop\n",
    "#     for key, value in my_dict.items():\n",
    "#         print(key,\"   \", value)\n",
    "    top_10_values = dict(sorted(my_dict.items(), key=lambda item: item[1], reverse=True)[:20])\n",
    "#     for key, value in top_10_values.items():\n",
    "#         print(f\"Key: {key}, Value: {value}\")\n",
    "    return top_10_values"
   ]
  },
  {
   "cell_type": "code",
   "execution_count": 21,
   "id": "570ed57b",
   "metadata": {},
   "outputs": [],
   "source": [
    "def get_rating(song_name, ratings_df):\n",
    "    # Searching for substring matches in 'name' column\n",
    "    result = ratings_df[ratings_df['name'].str.contains(song_name, case=False)]\n",
    "    \n",
    "    if not result.empty:\n",
    "        # Retrieve the first rating if a match is found\n",
    "        rating = result.iloc[0]['Rating']\n",
    "        return rating\n",
    "    else:\n",
    "        return \"Song not found\"\n"
   ]
  },
  {
   "cell_type": "code",
   "execution_count": 22,
   "id": "d609ff23",
   "metadata": {},
   "outputs": [],
   "source": [
    "\n",
    "\n",
    "def calculate_cosine_similarity(user_history_df, song_pool_df):    \n",
    "    # Extracting values from DataFrames\n",
    "    user_history_values = user_history_df.values\n",
    "    song_pool_values = song_pool_df.values\n",
    "    \n",
    "    # Calculating cosine similarity matrix\n",
    "    similarity_matrix = cosine_similarity(user_history_values, song_pool_values)\n",
    "    \n",
    "    return similarity_matrix\n"
   ]
  },
  {
   "cell_type": "code",
   "execution_count": 27,
   "id": "64d294cc",
   "metadata": {},
   "outputs": [],
   "source": [
    "User_ratings = pd.read_csv('input.csv', index_col=0)\n",
    "top_10_values = recommender(User_ratings)\n",
    "# Convert the dictionary to a DataFrame\n",
    "df = pd.DataFrame(list(top_10_values.items()), columns=['Key', 'Value'])\n",
    "# Store the DataFrame as a CSV file\n",
    "df.to_csv('output.csv', index=False)"
   ]
  },
  {
   "cell_type": "code",
   "execution_count": null,
   "id": "1cf9f3f4",
   "metadata": {},
   "outputs": [],
   "source": []
  }
 ],
 "metadata": {
  "kernelspec": {
   "display_name": "Python 3 (ipykernel)",
   "language": "python",
   "name": "python3"
  },
  "language_info": {
   "codemirror_mode": {
    "name": "ipython",
    "version": 3
   },
   "file_extension": ".py",
   "mimetype": "text/x-python",
   "name": "python",
   "nbconvert_exporter": "python",
   "pygments_lexer": "ipython3",
   "version": "3.10.9"
  }
 },
 "nbformat": 4,
 "nbformat_minor": 5
}
